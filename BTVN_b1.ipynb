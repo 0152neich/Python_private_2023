{
  "nbformat": 4,
  "nbformat_minor": 0,
  "metadata": {
    "colab": {
      "provenance": []
    },
    "kernelspec": {
      "name": "python3",
      "display_name": "Python 3"
    },
    "language_info": {
      "name": "python"
    }
  },
  "cells": [
    {
      "cell_type": "markdown",
      "source": [
        "# Buổi 1"
      ],
      "metadata": {
        "id": "-q8zgBbWzIV7"
      }
    },
    {
      "cell_type": "markdown",
      "source": [
        "## Câu 1"
      ],
      "metadata": {
        "id": "gcd-iYTGzWti"
      }
    },
    {
      "cell_type": "markdown",
      "source": [
        "Python có thể làm được một số điều sau:\n",
        "- Phát triển web với framework như Django.\n",
        "- Phân tích và xử lí dữ liệu với các thư viện Numpy, Pandas,...\n",
        "- Phát triển tí tuệ nhân tạo và học máy: python khá mạnh về việc phát triển các mô hình học máy với sự hỗ trợ của các thư viện như TensorFlow, Keras, PyTorch.\n",
        "- Phát triển game với Pygame.\n",
        "- Xây dựng ứng dụng máy tính nhân(GUI):Python có các thư viện như tkinter, PyQt và wxPython để phát triển các ứng dụng với giao diện đồ họa.\n",
        "- Xử lý văn bản và dữ liệu XML/JSON: Python có sẵn các thư viện cho việc xử lý văn bản và dữ liệu dạng JSON hoặc XML.\n"
      ],
      "metadata": {
        "id": "cwZo4rmbzaGA"
      }
    },
    {
      "cell_type": "markdown",
      "source": [
        "## Câu 2"
      ],
      "metadata": {
        "id": "DriNLl9PzwJz"
      }
    },
    {
      "cell_type": "markdown",
      "source": [
        "- Tính cú pháp:\n",
        "  + Python: Python có cú pháp đơn giản và dễ đọc, với việc sử dụng whitespace (thụt đầu dòng) để quyết định phạm vi của các khối mã. Điều này làm cho Python dễ học và dễ viết code.\n",
        "  + C++: C++ có cú pháp phức tạp hơn, đòi hỏi việc quản lý con trỏ và bộ nhớ một cách thủ công, điều này có thể làm cho việc phát triển ứng dụng phức tạp hơn.\n",
        "- Tính hiệu suất:\n",
        "  + Python: Python thường chậm hơn so với C++ vì nó là một ngôn ngữ thông dịch và có quản lý bộ nhớ tự động. Điều này có nghĩa là Python thích hợp cho các ứng dụng có hiệu suất không cần cao hoặc có thời gian phát triển ngắn hơn.\n",
        "  + C++: C++ có hiệu suất cao hơn vì nó biên dịch thành mã máy và cho phép kiểm soát trực tiếp quản lý bộ nhớ. Điều này làm cho C++ thích hợp cho các ứng dụng yêu cầu hiệu suất tối ưu như trò chơi và phần mềm hệ thống.\n",
        "- Kiểm soát bộ nhớ:\n",
        "  + Python: Python có quản lý bộ nhớ tự động, tức là bạn không cần lo lắng về việc phải giải phóng bộ nhớ một cách thủ công. Điều này giúp tránh được nhiều lỗi liên quan đến bộ nhớ.\n",
        "  + C++: C++ yêu cầu bạn quản lý bộ nhớ một cách rõ ràng, điều này có thể dẫn đến lỗi liên quan đến con trỏ và bộ nhớ nếu không được quản lý cẩn thận.\n",
        "- Đa năng và thư viện:\n",
        "  + Python: Python có nhiều thư viện và framework mạnh mẽ cho nhiều mục đích, bao gồm phát triển web, khoa học dữ liệu, trí tuệ nhân tạo, và nhiều lĩnh vực khác.\n",
        "  + C++: C++ cũng có nhiều thư viện và framework, nhưng chúng thường tập trung vào phát triển ứng dụng với hiệu suất cao và phần mềm hệ thống.\n"
      ],
      "metadata": {
        "id": "-KE3q7p4zyMI"
      }
    },
    {
      "cell_type": "markdown",
      "source": [
        "## Câu 3"
      ],
      "metadata": {
        "id": "bdwzfprP0G5t"
      }
    },
    {
      "cell_type": "markdown",
      "source": [
        "- Python là 1 ngôn ngữ thông dịch\n",
        "  + Lí do python là ngôn ngữ thông dịch vì nó có khả năng thực thi các lệnh trực tiếp và tự do mà không cần biên dịch trước chương trình khi chuyển sang ngôn ngữ máy. Python thực thi trực tiếp các chương trình, sau đó dịch từng câu lệnh thành chuỗi bao gồm những các chương trình con, rồi chuyển sang mã máy."
      ],
      "metadata": {
        "id": "Bm0z_eJT0VjG"
      }
    },
    {
      "cell_type": "markdown",
      "source": [
        "## Câu 5"
      ],
      "metadata": {
        "id": "RqjO4GkQ0tE4"
      }
    },
    {
      "cell_type": "markdown",
      "source": [
        "### Cách khai báo biến trong Python"
      ],
      "metadata": {
        "id": "T8G4P-1sIf67"
      }
    },
    {
      "cell_type": "markdown",
      "source": [
        "- Trong Python, bạn có thể khai báo biến bằng cách sử dụng tên biến và gán giá trị cho nó. Python là một ngôn ngữ không cần khai báo kiểu dữ liệu của biến, nó tự động xác định kiểu dữ liệu dựa trên giá trị bạn gán cho biến."
      ],
      "metadata": {
        "id": "POYPgfeB1OjR"
      }
    },
    {
      "cell_type": "code",
      "source": [
        "a = 5\n",
        "b = 10.5\n",
        "s = 'poseidon Tien'"
      ],
      "metadata": {
        "id": "oQkBZuWf1lTb"
      },
      "execution_count": 2,
      "outputs": []
    },
    {
      "cell_type": "markdown",
      "source": [
        "### Toán tử trong Python"
      ],
      "metadata": {
        "id": "M6_kMaVw4AXx"
      }
    },
    {
      "cell_type": "markdown",
      "source": [
        "#### - Toán tử số học\n",
        "- `+` (Cộng): Thực hiện phép cộng hai giá trị.\n",
        "- `-` (Trừ): Thực hiện phép trừ hai giá trị.\n",
        "- `*` (Nhân): Thực hiện phép nhân hai giá trị.\n",
        "- `/` (Chia): Thực hiện phép chia hai giá trị.\n",
        "- `%` (Chia lấy dư): Trả về phần dư của phép chia.\n",
        "- `**` (Lũy thừa): Thực hiện phép lũy thừa."
      ],
      "metadata": {
        "id": "893jZDC94KdO"
      }
    },
    {
      "cell_type": "code",
      "source": [
        "a = 5\n",
        "b = 10.5\n",
        "\n",
        "print('a + b =', a + b)\n",
        "print('a - b =', a - b)\n",
        "print('a * b =', a * b)\n",
        "print('a / b là:', a / b)\n",
        "print('a chia lấy nguyên b là:', a // b)\n",
        "print('a mũ b l:', a ** b)\n",
        "print('a chia lấy dư b là:', a % b)\n"
      ],
      "metadata": {
        "colab": {
          "base_uri": "https://localhost:8080/"
        },
        "id": "7exyjqBe2VVh",
        "outputId": "d1504dbe-7f77-4afe-b6a6-70d1b600bcfb"
      },
      "execution_count": 6,
      "outputs": [
        {
          "output_type": "stream",
          "name": "stdout",
          "text": [
            "a + b = 15.5\n",
            "a - b = -5.5\n",
            "a * b = 52.5\n",
            "a / b là: 0.47619047619047616\n",
            "a chia lấy nguyên b là: 0.0\n",
            "a mũ b là: 21836601.342771385\n",
            "a chia lấy dư b là: 5.0\n"
          ]
        }
      ]
    },
    {
      "cell_type": "markdown",
      "source": [
        "#### - Toán tử so sánh:\n",
        "- `==` (Bằng): Kiểm tra xem hai giá trị có bằng nhau hay không.\n",
        "- `!=` (Không bằng): Kiểm tra xem hai giá trị có khác nhau hay không.\n",
        "- `<` (Nhỏ hơn): Kiểm tra xem giá trị bên trái có nhỏ hơn giá trị bên phải hay không.\n",
        "- `>` (Lớn hơn): Kiểm tra xem giá trị bên trái có lớn hơn giá trị bên phải hay không.\n",
        "- `<=` (Nhỏ hơn hoặc bằng): Kiểm tra xem giá trị bên trái có nhỏ hơn hoặc bằng giá trị bên phải hay không.\n",
        "- `>=` (Lớn hơn hoặc bằng): Kiểm tra xem giá trị bên trái có lớn hơn hoặc bằng giá trị bên phải hay không."
      ],
      "metadata": {
        "id": "69_jZWqh21Lp"
      }
    },
    {
      "cell_type": "code",
      "source": [
        "a = 5\n",
        "b = 10.5\n",
        "print(a == b)\n",
        "print(a != b)\n",
        "print(a < b)\n",
        "print(a > b)\n",
        "print(a <= b)\n",
        "print(a >= b)"
      ],
      "metadata": {
        "colab": {
          "base_uri": "https://localhost:8080/"
        },
        "id": "G6lAnsNQ4dAd",
        "outputId": "fd4adc06-3513-47b2-d009-933e5a64d4bb"
      },
      "execution_count": 7,
      "outputs": [
        {
          "output_type": "stream",
          "name": "stdout",
          "text": [
            "False\n",
            "True\n",
            "True\n",
            "False\n",
            "True\n",
            "False\n"
          ]
        }
      ]
    },
    {
      "cell_type": "markdown",
      "source": [
        "#### Toán tử logic:\n",
        "- `and` (Và): Trả về True nếu cả hai biểu thức đều là True.\n",
        "- `or` (Hoặc): Trả về True nếu ít nhất một trong hai biểu thức là True.\n",
        "- `not` (Không): Đảo ngược giá trị của biểu thức, True thành False và ngược lại."
      ],
      "metadata": {
        "id": "kI6JnlXC5VPB"
      }
    },
    {
      "cell_type": "code",
      "source": [
        "x = True\n",
        "y = False\n",
        "print(x and y)\n",
        "print(x or y)\n",
        "print(not x)"
      ],
      "metadata": {
        "colab": {
          "base_uri": "https://localhost:8080/"
        },
        "id": "x51O9PY05svZ",
        "outputId": "fde9f60f-4566-4313-b815-bc692f66246f"
      },
      "execution_count": 8,
      "outputs": [
        {
          "output_type": "stream",
          "name": "stdout",
          "text": [
            "False\n",
            "True\n",
            "False\n"
          ]
        }
      ]
    },
    {
      "cell_type": "markdown",
      "source": [
        "#### Toán tử gán\n",
        "- `=` (Gán): Gán giá trị của biểu thức bên phải cho biến bên trái.\n",
        "- `+=` (Cộng và gán): Cộng giá trị bên phải vào giá trị của biến và gán lại cho biến.\n",
        "- `-=` (Trừ và gán): Trừ giá trị bên phải khỏi giá trị của biến và gán lại cho biến.\n",
        "- `*=` (Nhân và gán): Nhân giá trị bên phải với giá trị của biến và gán lại cho biến.\n",
        "- `/=` (Chia và gán): Chia giá trị của biến cho giá trị bên phải và gán lại cho biến.\n",
        "\n",
        "..."
      ],
      "metadata": {
        "id": "iAoCo3IH6Or_"
      }
    },
    {
      "cell_type": "code",
      "source": [
        "a = 5\n",
        "print(a)"
      ],
      "metadata": {
        "colab": {
          "base_uri": "https://localhost:8080/"
        },
        "id": "RIjBYmJu7mDa",
        "outputId": "19a00b9a-7700-45a1-95de-75ecbe36fcdd"
      },
      "execution_count": 17,
      "outputs": [
        {
          "output_type": "stream",
          "name": "stdout",
          "text": [
            "5\n"
          ]
        }
      ]
    },
    {
      "cell_type": "code",
      "source": [
        "a = 5\n",
        "a += 5\n",
        "print(a)"
      ],
      "metadata": {
        "colab": {
          "base_uri": "https://localhost:8080/"
        },
        "id": "ocw6ybGJ6m1-",
        "outputId": "4c544cfe-6860-404c-a28f-6853aeff7c63"
      },
      "execution_count": 13,
      "outputs": [
        {
          "output_type": "stream",
          "name": "stdout",
          "text": [
            "10\n"
          ]
        }
      ]
    },
    {
      "cell_type": "code",
      "source": [
        "a = 5\n",
        "a -= 5\n",
        "print(a)"
      ],
      "metadata": {
        "colab": {
          "base_uri": "https://localhost:8080/"
        },
        "id": "wOPvQbK-7FM6",
        "outputId": "a6a99de7-45b1-457c-d293-d00b43f90620"
      },
      "execution_count": 12,
      "outputs": [
        {
          "output_type": "stream",
          "name": "stdout",
          "text": [
            "0\n"
          ]
        }
      ]
    },
    {
      "cell_type": "code",
      "source": [
        "a = 5\n",
        "a *= 5\n",
        "print(a)"
      ],
      "metadata": {
        "colab": {
          "base_uri": "https://localhost:8080/"
        },
        "id": "wUA3bYx17KKL",
        "outputId": "883b3356-abe6-42f4-8a36-6dc2d35df6c8"
      },
      "execution_count": 15,
      "outputs": [
        {
          "output_type": "stream",
          "name": "stdout",
          "text": [
            "25\n"
          ]
        }
      ]
    },
    {
      "cell_type": "code",
      "source": [
        "a = 5\n",
        "a /= 5\n",
        "print(a)"
      ],
      "metadata": {
        "colab": {
          "base_uri": "https://localhost:8080/"
        },
        "id": "3lVDtVcY7OXm",
        "outputId": "0b7225e3-25e9-4119-f03d-f4b9793d580e"
      },
      "execution_count": 14,
      "outputs": [
        {
          "output_type": "stream",
          "name": "stdout",
          "text": [
            "1.0\n"
          ]
        }
      ]
    },
    {
      "cell_type": "markdown",
      "source": [
        "#### Toán tử xác thực\n",
        "- is: Toán tử này so sánh xem hai đối tượng có cùng tham chiếu đến cùng một vùng bộ nhớ hay không. Nếu hai đối tượng trỏ đến cùng một vùng bộ nhớ, toán tử is sẽ trả về True; nếu không, nó sẽ trả về False.\n",
        "- is not: Ngược lại của is"
      ],
      "metadata": {
        "id": "MnuId1Hd71bn"
      }
    },
    {
      "cell_type": "code",
      "source": [
        "a = 5\n",
        "b = 6\n",
        "print(a is b)\n",
        "print(a is not b)\n"
      ],
      "metadata": {
        "colab": {
          "base_uri": "https://localhost:8080/"
        },
        "id": "q9B4huXQ8Xtv",
        "outputId": "3fbb47e2-6a64-4c8a-830b-ec56700778c7"
      },
      "execution_count": 21,
      "outputs": [
        {
          "output_type": "stream",
          "name": "stdout",
          "text": [
            "False\n",
            "True\n"
          ]
        }
      ]
    },
    {
      "cell_type": "markdown",
      "source": [
        "#### Toán tử khai thác\n",
        "- in: Sử dụng để kiểm tra xem một phần tử có tồn tại trong chuỗi hoặc danh sách hay không. Nếu phần tử tồn tại, kết quả là True, ngược lại là False.\n",
        "- not in : Ngược lại của in"
      ],
      "metadata": {
        "id": "WwMXf2Zk9k4Y"
      }
    },
    {
      "cell_type": "code",
      "source": [
        "s = 'Poseidon Tien'\n",
        "s1 = 'Tien'\n",
        "s2 = 'cute'\n",
        "print(s1 in s)\n",
        "print(s2 in s1)"
      ],
      "metadata": {
        "colab": {
          "base_uri": "https://localhost:8080/"
        },
        "id": "CtmkgLNBGGcn",
        "outputId": "af7b6545-c67b-4a42-902c-50822c25efd1"
      },
      "execution_count": 23,
      "outputs": [
        {
          "output_type": "stream",
          "name": "stdout",
          "text": [
            "True\n",
            "False\n"
          ]
        }
      ]
    },
    {
      "cell_type": "markdown",
      "source": [
        "#### Toán tử Bitwise:\n",
        "- AND bitwise (&): Toán tử & thực hiện phép AND logic trên từng cặp bit tương ứng của hai số. Kết quả là 1 nếu cả hai bit đều là 1, ngược lại là 0.\n",
        "- OR bitwise (|): Toán tử | thực hiện phép OR logic trên từng cặp bit tương ứng của hai số. Kết quả là 1 nếu ít nhất một trong hai bit là 1.\n",
        "- XOR bitwise (^): Toán tử ^ thực hiện phép XOR logic (hoặc phép OR loại trừ) trên từng cặp bit tương ứng của hai số. Kết quả là 1 nếu các bit khác nhau, ngược lại là 0.\n",
        "- Phép NOT bitwise (~): Toán tử ~ thực hiện phép NOT logic trên từng bit của số. Nó đảo ngược giá trị của mỗi bit.\n",
        "- Dịch bit sang trái (<<) và dịch bit sang phải (>>): Toán tử << thực hiện phép dịch bit sang trái và toán tử >> thực hiện phép dịch bit sang phải. Các bit được dịch đi và được thay thế bằng các bit 0."
      ],
      "metadata": {
        "id": "KiMRMfz-HTE3"
      }
    },
    {
      "cell_type": "code",
      "source": [
        "a = 5\n",
        "b = 3\n",
        "print(a & b)\n",
        "print(a | b)\n",
        "print(a ^ b)\n",
        "print(~a)\n",
        "print(a << 2)"
      ],
      "metadata": {
        "colab": {
          "base_uri": "https://localhost:8080/"
        },
        "id": "qbmKwpCdH94q",
        "outputId": "d4a5083c-51d9-4c2b-ec7e-9c9dd56b9296"
      },
      "execution_count": 24,
      "outputs": [
        {
          "output_type": "stream",
          "name": "stdout",
          "text": [
            "1\n",
            "7\n",
            "6\n",
            "-6\n",
            "20\n"
          ]
        }
      ]
    },
    {
      "cell_type": "markdown",
      "source": [
        "###  Các kiểu dữ liệu trong Python"
      ],
      "metadata": {
        "id": "yYSdkgXxIbvN"
      }
    },
    {
      "cell_type": "markdown",
      "source": [
        "- Numbers: Number là một nhóm dữ liệu thường dùng trong Python, nó dùng để lưu trữ hầu hết các kiểu về số như int, float, complex\n"
      ],
      "metadata": {
        "id": "AD-lRFOyJbEf"
      }
    },
    {
      "cell_type": "code",
      "source": [
        "a = 5\n",
        "b = 2.4\n",
        "c = 3 + 4j\n",
        "print(type(a))\n",
        "print(type(b))\n",
        "print(type(c))"
      ],
      "metadata": {
        "colab": {
          "base_uri": "https://localhost:8080/"
        },
        "id": "sqlIdXb8JsmW",
        "outputId": "4568e705-8287-4993-ae44-740a70231abe"
      },
      "execution_count": 26,
      "outputs": [
        {
          "output_type": "stream",
          "name": "stdout",
          "text": [
            "<class 'int'>\n",
            "<class 'float'>\n",
            "<class 'complex'>\n"
          ]
        }
      ]
    },
    {
      "cell_type": "markdown",
      "source": [
        "- String: String trong python sẽ biểu thị cho các chuỗi và được bao quanh bởi dấu ngoặc đơn hoặc kép."
      ],
      "metadata": {
        "id": "ILU0lBtKKCpA"
      }
    },
    {
      "cell_type": "code",
      "source": [
        "s = 'Anh Tien cute:>>'\n",
        "print(type(s))"
      ],
      "metadata": {
        "colab": {
          "base_uri": "https://localhost:8080/"
        },
        "id": "tdzDHvNDKKeo",
        "outputId": "164eea8e-711e-4927-97d4-69408c4a767f"
      },
      "execution_count": 27,
      "outputs": [
        {
          "output_type": "stream",
          "name": "stdout",
          "text": [
            "<class 'str'>\n"
          ]
        }
      ]
    },
    {
      "cell_type": "markdown",
      "source": [
        "- List:\n",
        "  + List là kiểu dữ liệu tích hợp sẵn trong Python được sử dụng để lưu trữ các bộ dữ liệu.\n",
        "  + List được sử dụng để lưu trữ nhiều items trong một biến duy nhất."
      ],
      "metadata": {
        "id": "JcA8oMmRKVsh"
      }
    },
    {
      "cell_type": "code",
      "source": [
        "lst = [1,2,3,4,5,6]\n",
        "print(type(lst))"
      ],
      "metadata": {
        "colab": {
          "base_uri": "https://localhost:8080/"
        },
        "id": "frPYd9dqKcMK",
        "outputId": "daa1f233-bfb9-4268-ed10-77467601814a"
      },
      "execution_count": 28,
      "outputs": [
        {
          "output_type": "stream",
          "name": "stdout",
          "text": [
            "<class 'list'>\n"
          ]
        }
      ]
    },
    {
      "cell_type": "markdown",
      "source": [
        "- Tuple: Tuple tương tự với list nhưng các items được sắp xếp theo thứ tự và không thể thay đổi."
      ],
      "metadata": {
        "id": "Lrz3oOmLKibp"
      }
    },
    {
      "cell_type": "code",
      "source": [
        "tup = ('a', 'c', 'c')\n",
        "print(type(tup))"
      ],
      "metadata": {
        "colab": {
          "base_uri": "https://localhost:8080/"
        },
        "id": "XvU7Y28VKrGE",
        "outputId": "c7f90e9a-57ca-480a-8e15-20e36d9fe9b4"
      },
      "execution_count": 29,
      "outputs": [
        {
          "output_type": "stream",
          "name": "stdout",
          "text": [
            "<class 'tuple'>\n"
          ]
        }
      ]
    },
    {
      "cell_type": "markdown",
      "source": [
        "- Dictionary:\n",
        "  + Dictionary là một tập hợp được sắp xếp theo thứ tự *, có thể thay đổi và không cho phép trùng lặp.\n",
        "  + Dictionary được sử dụng để lưu trữ các giá trị dữ liệu trong các cặp key: value."
      ],
      "metadata": {
        "id": "wz6NvOzsKyND"
      }
    },
    {
      "cell_type": "code",
      "source": [
        "dic = {'name': 'Pham Đang Đong',\n",
        "      'age': '20',\n",
        "      'gender':'Male',\n",
        "      'appearance': 'Handsome',\n",
        "      'character': 'Choosy'\n",
        "      }\n",
        "print(type(dic))"
      ],
      "metadata": {
        "colab": {
          "base_uri": "https://localhost:8080/"
        },
        "id": "4rFuoEWgLAeX",
        "outputId": "b91e7ca0-9f5c-446d-80df-51194469924d"
      },
      "execution_count": 32,
      "outputs": [
        {
          "output_type": "stream",
          "name": "stdout",
          "text": [
            "<class 'dict'>\n"
          ]
        }
      ]
    }
  ]
}