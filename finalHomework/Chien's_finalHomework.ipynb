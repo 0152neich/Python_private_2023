{
  "nbformat": 4,
  "nbformat_minor": 0,
  "metadata": {
    "colab": {
      "provenance": [],
      "gpuType": "T4"
    },
    "kernelspec": {
      "name": "python3",
      "display_name": "Python 3"
    },
    "language_info": {
      "name": "python"
    },
    "accelerator": "GPU"
  },
  "cells": [
    {
      "cell_type": "markdown",
      "source": [
        "Hi các bạn, cũng đã đến những buổi cuối cùng của lớp Python Private, chúng ta đã đi qua nhiều kiến thức cơ bản cũng như các thư viện hữu dụng cho hướng phát triển của lớp sau này, bài tập này là bài tập tổng hợp lại kiến thức cho các bạn trước khi bước vào bài tập lớn cuối khóa nhé.\n",
        "\n",
        "Yêu cầu chung cho bài tập như sau:\n",
        "- Tạo folder finalHomework trên drive của mình, tạo bản sao từ google colab này và lưu lại trong đó\n",
        "- Ở các vị trị có dấu ... các bạn sẽ thay thế nó bằng câu lệnh phù hợp nhé\n",
        "- Có thể thêm cell code để tách rời các đoạn code cho rõ ràng hơn\n",
        "- Link dataset:\n",
        "  + Fifa World Cup 2022 Qatar: [data](https://drive.google.com/drive/folders/1toqv_FTlsi6-NfswfzKnK9GBYAE8i57L?usp=sharing)\n",
        "\n",
        "Anh mong các bạn sẽ làm bài tập đầy đủ để có thể review lại kiến thức của bản thân nhé !!!\n",
        "\n",
        "Yêu các bạn <3\n",
        "\n"
      ],
      "metadata": {
        "id": "7N4tjV0RttOy"
      }
    },
    {
      "cell_type": "code",
      "source": [
        "from google.colab import drive\n",
        "drive.mount('/content/drive')"
      ],
      "metadata": {
        "colab": {
          "base_uri": "https://localhost:8080/"
        },
        "id": "1aiXg4T3Sqhm",
        "outputId": "49237f70-829a-4e9a-ded3-e7fa15b3d6b5"
      },
      "execution_count": 1,
      "outputs": [
        {
          "output_type": "stream",
          "name": "stdout",
          "text": [
            "Mounted at /content/drive\n"
          ]
        }
      ]
    },
    {
      "cell_type": "markdown",
      "source": [
        "# Set up"
      ],
      "metadata": {
        "id": "2nJGCVde7QYz"
      }
    },
    {
      "cell_type": "markdown",
      "source": [
        "## Import các thư viện cần thiết"
      ],
      "metadata": {
        "id": "OaIqmAl26tfn"
      }
    },
    {
      "cell_type": "code",
      "execution_count": 2,
      "metadata": {
        "id": "SQs3MtBEtoBM"
      },
      "outputs": [],
      "source": [
        "import numpy as np\n",
        "import pandas as pd\n",
        "import matplotlib.pyplot as plt\n",
        "from google.colab.patches import cv2_imshow\n",
        "import cv2\n",
        "import ast\n",
        "from collections import Counter"
      ]
    },
    {
      "cell_type": "markdown",
      "source": [
        "## Kết nối với google drive"
      ],
      "metadata": {
        "id": "fJk_2UsOwjlY"
      }
    },
    {
      "cell_type": "code",
      "source": [
        "from google.colab import drive\n",
        "drive.mount('/content/drive')"
      ],
      "metadata": {
        "id": "Y4Zf9gEAwo4f",
        "colab": {
          "base_uri": "https://localhost:8080/"
        },
        "outputId": "7680b90b-05a0-4ebc-e846-0f455b4d7110"
      },
      "execution_count": 2,
      "outputs": [
        {
          "output_type": "stream",
          "name": "stdout",
          "text": [
            "Mounted at /content/drive\n"
          ]
        }
      ]
    },
    {
      "cell_type": "markdown",
      "source": [
        "## Di chuyển đến thư mục chứa google colab"
      ],
      "metadata": {
        "id": "CrHj0eFjyV66"
      }
    },
    {
      "cell_type": "code",
      "source": [
        "# Thư mục trong Google Drive bạn muốn di chuyển\n",
        "source_folder_path = '/content/drive/MyDrive/Colab Notebooks/finalHomework_of_Chien.ipynb'\n",
        "\n",
        "# Thư mục đích trong Colab\n",
        "destination_folder_path = '/content/drive/MyDrive/finalHomework'\n",
        "\n",
        "# Di chuyển thư mục\n",
        "!cp -r \"{source_folder_path}\" \"{destination_folder_path}\""
      ],
      "metadata": {
        "id": "m3GoRYnSyFnY"
      },
      "execution_count": 3,
      "outputs": []
    },
    {
      "cell_type": "markdown",
      "source": [
        "## Upload file"
      ],
      "metadata": {
        "id": "sg7zIV2gyowz"
      }
    },
    {
      "cell_type": "code",
      "source": [
        "from google.colab import files\n",
        "uploaded = files.upload()"
      ],
      "metadata": {
        "id": "UxfxS5cTzEZ4",
        "colab": {
          "base_uri": "https://localhost:8080/",
          "height": 71
        },
        "outputId": "c4ca2aca-8b29-4e4e-96db-ff0790ed241e"
      },
      "execution_count": 23,
      "outputs": [
        {
          "output_type": "display_data",
          "data": {
            "text/plain": [
              "<IPython.core.display.HTML object>"
            ],
            "text/html": [
              "\n",
              "     <input type=\"file\" id=\"files-ce6c1b7f-98d5-4ba9-b4b8-335e76a5067d\" name=\"files[]\" multiple disabled\n",
              "        style=\"border:none\" />\n",
              "     <output id=\"result-ce6c1b7f-98d5-4ba9-b4b8-335e76a5067d\">\n",
              "      Upload widget is only available when the cell has been executed in the\n",
              "      current browser session. Please rerun this cell to enable.\n",
              "      </output>\n",
              "      <script>// Copyright 2017 Google LLC\n",
              "//\n",
              "// Licensed under the Apache License, Version 2.0 (the \"License\");\n",
              "// you may not use this file except in compliance with the License.\n",
              "// You may obtain a copy of the License at\n",
              "//\n",
              "//      http://www.apache.org/licenses/LICENSE-2.0\n",
              "//\n",
              "// Unless required by applicable law or agreed to in writing, software\n",
              "// distributed under the License is distributed on an \"AS IS\" BASIS,\n",
              "// WITHOUT WARRANTIES OR CONDITIONS OF ANY KIND, either express or implied.\n",
              "// See the License for the specific language governing permissions and\n",
              "// limitations under the License.\n",
              "\n",
              "/**\n",
              " * @fileoverview Helpers for google.colab Python module.\n",
              " */\n",
              "(function(scope) {\n",
              "function span(text, styleAttributes = {}) {\n",
              "  const element = document.createElement('span');\n",
              "  element.textContent = text;\n",
              "  for (const key of Object.keys(styleAttributes)) {\n",
              "    element.style[key] = styleAttributes[key];\n",
              "  }\n",
              "  return element;\n",
              "}\n",
              "\n",
              "// Max number of bytes which will be uploaded at a time.\n",
              "const MAX_PAYLOAD_SIZE = 100 * 1024;\n",
              "\n",
              "function _uploadFiles(inputId, outputId) {\n",
              "  const steps = uploadFilesStep(inputId, outputId);\n",
              "  const outputElement = document.getElementById(outputId);\n",
              "  // Cache steps on the outputElement to make it available for the next call\n",
              "  // to uploadFilesContinue from Python.\n",
              "  outputElement.steps = steps;\n",
              "\n",
              "  return _uploadFilesContinue(outputId);\n",
              "}\n",
              "\n",
              "// This is roughly an async generator (not supported in the browser yet),\n",
              "// where there are multiple asynchronous steps and the Python side is going\n",
              "// to poll for completion of each step.\n",
              "// This uses a Promise to block the python side on completion of each step,\n",
              "// then passes the result of the previous step as the input to the next step.\n",
              "function _uploadFilesContinue(outputId) {\n",
              "  const outputElement = document.getElementById(outputId);\n",
              "  const steps = outputElement.steps;\n",
              "\n",
              "  const next = steps.next(outputElement.lastPromiseValue);\n",
              "  return Promise.resolve(next.value.promise).then((value) => {\n",
              "    // Cache the last promise value to make it available to the next\n",
              "    // step of the generator.\n",
              "    outputElement.lastPromiseValue = value;\n",
              "    return next.value.response;\n",
              "  });\n",
              "}\n",
              "\n",
              "/**\n",
              " * Generator function which is called between each async step of the upload\n",
              " * process.\n",
              " * @param {string} inputId Element ID of the input file picker element.\n",
              " * @param {string} outputId Element ID of the output display.\n",
              " * @return {!Iterable<!Object>} Iterable of next steps.\n",
              " */\n",
              "function* uploadFilesStep(inputId, outputId) {\n",
              "  const inputElement = document.getElementById(inputId);\n",
              "  inputElement.disabled = false;\n",
              "\n",
              "  const outputElement = document.getElementById(outputId);\n",
              "  outputElement.innerHTML = '';\n",
              "\n",
              "  const pickedPromise = new Promise((resolve) => {\n",
              "    inputElement.addEventListener('change', (e) => {\n",
              "      resolve(e.target.files);\n",
              "    });\n",
              "  });\n",
              "\n",
              "  const cancel = document.createElement('button');\n",
              "  inputElement.parentElement.appendChild(cancel);\n",
              "  cancel.textContent = 'Cancel upload';\n",
              "  const cancelPromise = new Promise((resolve) => {\n",
              "    cancel.onclick = () => {\n",
              "      resolve(null);\n",
              "    };\n",
              "  });\n",
              "\n",
              "  // Wait for the user to pick the files.\n",
              "  const files = yield {\n",
              "    promise: Promise.race([pickedPromise, cancelPromise]),\n",
              "    response: {\n",
              "      action: 'starting',\n",
              "    }\n",
              "  };\n",
              "\n",
              "  cancel.remove();\n",
              "\n",
              "  // Disable the input element since further picks are not allowed.\n",
              "  inputElement.disabled = true;\n",
              "\n",
              "  if (!files) {\n",
              "    return {\n",
              "      response: {\n",
              "        action: 'complete',\n",
              "      }\n",
              "    };\n",
              "  }\n",
              "\n",
              "  for (const file of files) {\n",
              "    const li = document.createElement('li');\n",
              "    li.append(span(file.name, {fontWeight: 'bold'}));\n",
              "    li.append(span(\n",
              "        `(${file.type || 'n/a'}) - ${file.size} bytes, ` +\n",
              "        `last modified: ${\n",
              "            file.lastModifiedDate ? file.lastModifiedDate.toLocaleDateString() :\n",
              "                                    'n/a'} - `));\n",
              "    const percent = span('0% done');\n",
              "    li.appendChild(percent);\n",
              "\n",
              "    outputElement.appendChild(li);\n",
              "\n",
              "    const fileDataPromise = new Promise((resolve) => {\n",
              "      const reader = new FileReader();\n",
              "      reader.onload = (e) => {\n",
              "        resolve(e.target.result);\n",
              "      };\n",
              "      reader.readAsArrayBuffer(file);\n",
              "    });\n",
              "    // Wait for the data to be ready.\n",
              "    let fileData = yield {\n",
              "      promise: fileDataPromise,\n",
              "      response: {\n",
              "        action: 'continue',\n",
              "      }\n",
              "    };\n",
              "\n",
              "    // Use a chunked sending to avoid message size limits. See b/62115660.\n",
              "    let position = 0;\n",
              "    do {\n",
              "      const length = Math.min(fileData.byteLength - position, MAX_PAYLOAD_SIZE);\n",
              "      const chunk = new Uint8Array(fileData, position, length);\n",
              "      position += length;\n",
              "\n",
              "      const base64 = btoa(String.fromCharCode.apply(null, chunk));\n",
              "      yield {\n",
              "        response: {\n",
              "          action: 'append',\n",
              "          file: file.name,\n",
              "          data: base64,\n",
              "        },\n",
              "      };\n",
              "\n",
              "      let percentDone = fileData.byteLength === 0 ?\n",
              "          100 :\n",
              "          Math.round((position / fileData.byteLength) * 100);\n",
              "      percent.textContent = `${percentDone}% done`;\n",
              "\n",
              "    } while (position < fileData.byteLength);\n",
              "  }\n",
              "\n",
              "  // All done.\n",
              "  yield {\n",
              "    response: {\n",
              "      action: 'complete',\n",
              "    }\n",
              "  };\n",
              "}\n",
              "\n",
              "scope.google = scope.google || {};\n",
              "scope.google.colab = scope.google.colab || {};\n",
              "scope.google.colab._files = {\n",
              "  _uploadFiles,\n",
              "  _uploadFilesContinue,\n",
              "};\n",
              "})(self);\n",
              "</script> "
            ]
          },
          "metadata": {}
        },
        {
          "output_type": "stream",
          "name": "stdout",
          "text": [
            "Saving freeDrawExport_012314055352.png to freeDrawExport_012314055352.png\n"
          ]
        }
      ]
    },
    {
      "cell_type": "markdown",
      "source": [
        "## List các file trong thư mục"
      ],
      "metadata": {
        "id": "WJB8Vuyt8I8X"
      }
    },
    {
      "cell_type": "code",
      "source": [
        "import os\n",
        "\n",
        "# Đường dẫn đến thư mục bạn muốn liệt kê\n",
        "folder_path = '/content/drive/MyDrive/finalHomework'\n",
        "\n",
        "# Lấy danh sách các tệp tin\n",
        "file_list = [f for f in os.listdir(folder_path) if os.path.isfile(os.path.join(folder_path, f))]\n",
        "\n",
        "# In ra danh sách\n",
        "print(\"Danh sách các tệp tin trong thư mục:\")\n",
        "for file_name in file_list:\n",
        "    print(file_name)"
      ],
      "metadata": {
        "id": "MJ-gBUGt8ImB",
        "colab": {
          "base_uri": "https://localhost:8080/"
        },
        "outputId": "d197ea00-0f4a-4c3c-be22-16d33b871197"
      },
      "execution_count": 8,
      "outputs": [
        {
          "output_type": "stream",
          "name": "stdout",
          "text": [
            "Danh sách các tệp tin trong thư mục:\n",
            "finalHomework_of_Chien.ipynb\n"
          ]
        }
      ]
    },
    {
      "cell_type": "markdown",
      "source": [
        "# Numpy"
      ],
      "metadata": {
        "id": "KAfNZmApG7q8"
      }
    },
    {
      "cell_type": "code",
      "source": [
        "# Init\n",
        "import random\n",
        "import numpy as np\n",
        "\n",
        "prices = list(range(1, 1000000))\n",
        "random.shuffle(prices)"
      ],
      "metadata": {
        "id": "Qx6IzqyyG_5c"
      },
      "execution_count": 4,
      "outputs": []
    },
    {
      "cell_type": "code",
      "source": [
        "# hàm ban đầu\n",
        "def find_max_down_fall(prices):\n",
        "  min_right_to_left = [0 for i in range((len(prices)))]\n",
        "\n",
        "  min_so_far = float('inf')\n",
        "  for i in range(len(prices) -1, -1, -1):\n",
        "    min_so_far = min(prices[i], min_so_far)\n",
        "    min_right_to_left[i] = min_so_far\n",
        "\n",
        "  res = 0\n",
        "  for i, buy in enumerate(prices):\n",
        "    worst_sell = min_right_to_left[i]\n",
        "    down_fall = (buy - worst_sell) / buy\n",
        "    res = max(res, down_fall)\n",
        "\n",
        "  return res"
      ],
      "metadata": {
        "id": "KvygxO4iJxo4"
      },
      "execution_count": 5,
      "outputs": []
    },
    {
      "cell_type": "code",
      "source": [
        "# Tính thời gian thực hiện của hàm find_max_down_fall\n",
        "%timeit find_max_down_fall(prices)"
      ],
      "metadata": {
        "id": "6SBdr8n2JyQw",
        "colab": {
          "base_uri": "https://localhost:8080/"
        },
        "outputId": "73be46a7-5496-4905-c172-2df7fbdd03ce"
      },
      "execution_count": 11,
      "outputs": [
        {
          "output_type": "stream",
          "name": "stdout",
          "text": [
            "1.01 s ± 258 ms per loop (mean ± std. dev. of 7 runs, 1 loop each)\n"
          ]
        }
      ]
    },
    {
      "cell_type": "code",
      "source": [
        "# hàm sau khi được viết lại bằng numpy\n",
        "def find_max_down_fall_np(prices_np):\n",
        "  # start your code here\n",
        "  prices_np = np.array(prices_np)\n",
        "  min_right_to_left = np.minimum.accumulate(prices_np[::-1])[::-1]\n",
        "  worst_sell = min_right_to_left\n",
        "  down_fall = (prices_np - worst_sell) / prices_np\n",
        "  res = np.max(down_fall)\n",
        "\n",
        "  return res\n",
        "  # end your code"
      ],
      "metadata": {
        "id": "YR77Xtp5J15S"
      },
      "execution_count": 12,
      "outputs": []
    },
    {
      "cell_type": "code",
      "source": [
        "# Tính thời gian thực hiện của hàm find_max_down_fall sau khi được viết lại bằng numpy với thời gian kì vọng nhanh hơn khoảng 100 lần\n",
        "# start your code here\n",
        "prices_np = np.array([prices])\n",
        "# end your code\n",
        "\n",
        "%timeit find_max_down_fall_np(prices_np)"
      ],
      "metadata": {
        "id": "GCXJHtzbJ3nC",
        "colab": {
          "base_uri": "https://localhost:8080/"
        },
        "outputId": "a09abbd5-82e6-457b-fd27-00f79014d94c"
      },
      "execution_count": 13,
      "outputs": [
        {
          "output_type": "stream",
          "name": "stdout",
          "text": [
            "20.1 ms ± 3.75 ms per loop (mean ± std. dev. of 7 runs, 100 loops each)\n"
          ]
        }
      ]
    },
    {
      "cell_type": "code",
      "source": [
        "# so sánh kết quả\n",
        "find_max_down_fall(prices) == find_max_down_fall_np(prices_np)"
      ],
      "metadata": {
        "id": "H3q6aJrGJ69R",
        "colab": {
          "base_uri": "https://localhost:8080/"
        },
        "outputId": "67c5a43d-3d48-4abb-c8fe-170094e44490"
      },
      "execution_count": 14,
      "outputs": [
        {
          "output_type": "execute_result",
          "data": {
            "text/plain": [
              "False"
            ]
          },
          "metadata": {},
          "execution_count": 14
        }
      ]
    },
    {
      "cell_type": "markdown",
      "source": [
        "# Pandas + Matplotlib"
      ],
      "metadata": {
        "id": "P1TFqBTO7Ghy"
      }
    },
    {
      "cell_type": "markdown",
      "source": [
        "## Gọi file csv"
      ],
      "metadata": {
        "id": "LExKcCNc798S"
      }
    },
    {
      "cell_type": "code",
      "source": [
        "df_matches = pd.read_csv('/content/matches_world_cup_2022_catar.csv')\n",
        "df_events = df_matches['events_list']"
      ],
      "metadata": {
        "id": "0LJZcOob79fQ"
      },
      "execution_count": 5,
      "outputs": []
    },
    {
      "cell_type": "markdown",
      "source": [
        "## Hiển thị 5 dòng đầu của dataframe"
      ],
      "metadata": {
        "id": "3GKYg8NP7AkW"
      }
    },
    {
      "cell_type": "code",
      "source": [
        "df_matches.head()"
      ],
      "metadata": {
        "id": "8QUFbwHZvzvS"
      },
      "execution_count": null,
      "outputs": []
    },
    {
      "cell_type": "markdown",
      "source": [
        "## Hiển thị 5 dòng cuối của các dataframe"
      ],
      "metadata": {
        "id": "IXiLmKUVEM1B"
      }
    },
    {
      "cell_type": "code",
      "source": [
        "df_matches.tail()"
      ],
      "metadata": {
        "id": "GwkoK2dhEL1S"
      },
      "execution_count": null,
      "outputs": []
    },
    {
      "cell_type": "markdown",
      "source": [
        "## In ra thông tin của từng dataframe"
      ],
      "metadata": {
        "id": "h60ItSAnyW2P"
      }
    },
    {
      "cell_type": "code",
      "source": [
        "df_matches.info()"
      ],
      "metadata": {
        "id": "YlAUSIFJ4wNl"
      },
      "execution_count": null,
      "outputs": []
    },
    {
      "cell_type": "code",
      "source": [
        "df_events.info()"
      ],
      "metadata": {
        "id": "-daXQ4Sm1EPy"
      },
      "execution_count": null,
      "outputs": []
    },
    {
      "cell_type": "markdown",
      "source": [
        "- Hãy kiểm tra xem các data frame có giá trị null không\n",
        "- Nếu có hãy trình bày cách giải quyết của bản thân đối với dữ liệu null đó, và code cách giải quyết dưới cell code bên dưới\n",
        "- Nếu không có cách giải quyết thì cũng ghi là không có cách giải quyết\n"
      ],
      "metadata": {
        "id": "tIn8C_W-1UHL"
      }
    },
    {
      "cell_type": "markdown",
      "source": [
        "Ghi cách giải quyết của bản thân vào đây: ..."
      ],
      "metadata": {
        "id": "uCLO1ckZ2rTa"
      }
    },
    {
      "cell_type": "code",
      "source": [
        "df_matches.isnull().any()"
      ],
      "metadata": {
        "id": "zu_hydx51TOO"
      },
      "execution_count": null,
      "outputs": []
    },
    {
      "cell_type": "markdown",
      "source": [
        "## Lấy ra các trận đấu có từ 3 bàn thắng trở lên (ghi ra tên cặp đấu)"
      ],
      "metadata": {
        "id": "Qy60qLjT5fc1"
      }
    },
    {
      "cell_type": "code",
      "source": [
        "df_matches[df_matches['team_home_score'] + df_matches['team_away_score'] >= 3]"
      ],
      "metadata": {
        "id": "WV8o0Gp_5fCA"
      },
      "execution_count": null,
      "outputs": []
    },
    {
      "cell_type": "markdown",
      "source": [
        "## Thống kê các sân vận động diễn ra các trận đấu và hiển thị tỷ lệ phần trăm của các sân vận động bằng biểu đồ thích hợp"
      ],
      "metadata": {
        "id": "GlqAhl_Q5zSk"
      }
    },
    {
      "cell_type": "code",
      "source": [
        "stadium_percent = (df_matches['location'].value_counts() / len(df_matches)) * 100\n",
        "print(stadium_percent)\n",
        "# Vẽ biểu đồ hình tròn\n",
        "plt.figure(figsize=(8, 8))\n",
        "plt.pie(stadium_percent, labels=stadium_percent.index, autopct='%1.2f%%')\n",
        "plt.title('Tỉ lệ phần trăm các sân đấu')\n",
        "plt.show()"
      ],
      "metadata": {
        "id": "u68SdjY25y8F"
      },
      "execution_count": null,
      "outputs": []
    },
    {
      "cell_type": "markdown",
      "source": [
        "## Lấy ra tên của các đội tham dự giải đấu"
      ],
      "metadata": {
        "id": "xLVi1YWBu0ya"
      }
    },
    {
      "cell_type": "code",
      "source": [
        "all_teams = df_matches['team_name_home'].unique()\n",
        "all_teams"
      ],
      "metadata": {
        "id": "-7NR6aOau0cs"
      },
      "execution_count": null,
      "outputs": []
    },
    {
      "cell_type": "markdown",
      "source": [
        "## Lấy ra số bàn thắng được ghi bởi các đội"
      ],
      "metadata": {
        "id": "Z-BWfpm1wOzg"
      }
    },
    {
      "cell_type": "code",
      "source": [
        "# Tạo DataFrame riêng với thông tin về đội nhà\n",
        "goals_home = df_matches[['team_name_home', 'team_home_score']].rename(columns={'team_name_home': 'team', 'team_home_score': 'goals'})\n",
        "\n",
        "# Tạo DataFrame riêng với thông tin về đội khách\n",
        "goals_away = df_matches[['team_name_away', 'team_away_score']].rename(columns={'team_name_away': 'team', 'team_away_score': 'goals'})\n",
        "\n",
        "# Kết hợp thông tin về số bàn thắng của đội nhà và đội khách\n",
        "all_goals = pd.concat([goals_home, goals_away])\n",
        "\n",
        "# Tính tổng số bàn thắng của mỗi đội\n",
        "total_goals = all_goals.groupby('team')['goals'].sum().reset_index()\n",
        "\n",
        "# In ra số bàn thắng của mỗi đội\n",
        "print(total_goals)"
      ],
      "metadata": {
        "id": "FrcC8LX2wOP5"
      },
      "execution_count": null,
      "outputs": []
    },
    {
      "cell_type": "markdown",
      "source": [
        "## Vẽ biểu đồ thể hiện số bàn thắng được ghi bởi mỗi đội (tự chọn kiểu biểu đồ phù hợp)"
      ],
      "metadata": {
        "id": "HGqkkm2VwXSQ"
      }
    },
    {
      "cell_type": "code",
      "source": [
        "x = np.sort(all_teams)\n",
        "y = np.array((total_goals['goals']))\n",
        "plt.figure(figsize=(10,10))\n",
        "plt.bar(x, y, width=0.5,color = 'orange')\n",
        "for i, value in enumerate(y):\n",
        "    plt.text(i, value, str(value), ha='center', va='bottom')\n",
        "plt.xlabel('Teams')\n",
        "plt.ylabel('Goals')\n",
        "plt.title('Goals Scored By Teams')\n",
        "plt.xticks(rotation = 90)\n",
        "plt.show()"
      ],
      "metadata": {
        "id": "IcAtUHd9wl3g"
      },
      "execution_count": null,
      "outputs": []
    },
    {
      "cell_type": "markdown",
      "source": [
        "##Thống kê số lượng bàn thắng được ghi bởi các cầu thủ Argentina bằng biểu đồ tròn\n",
        "\n",
        "- Yêu cầu phải có tiêu đề cho biểu đồ, chú thích\n",
        "- Có tỷ lệ phần trăm cho từng cầu thủ\n",
        "- Tách phần của Alexis Mac Allister ra khỏi biểu đồ"
      ],
      "metadata": {
        "id": "yDNxS4mawqj5"
      }
    },
    {
      "cell_type": "code",
      "source": [],
      "metadata": {
        "id": "rjtXSK90wqLh"
      },
      "execution_count": 32,
      "outputs": []
    },
    {
      "cell_type": "markdown",
      "source": [
        "## Thống kê tỷ lệ ra sân của các cầu thủ Pháp bằng biểu đồ"
      ],
      "metadata": {
        "id": "QOXoBXL43jJf"
      }
    },
    {
      "cell_type": "code",
      "source": [
        "total_matches_home = df_matches[df_matches['team_name_home'] == 'France']['player_names_home'].shape[0]\n",
        "total_matches_away = df_matches[df_matches['team_name_away'] == 'France']['player_names_away'].shape[0]\n",
        "\n",
        "all_player_names = []\n",
        "for i in range(total_matches_home):\n",
        "    player_names_home = df_matches[df_matches['team_name_home'] == 'France']['player_names_home'].iloc[i]\n",
        "    player_names_home_list = ast.literal_eval(player_names_home)\n",
        "    player_names_home_list = list(player_names_home_list)\n",
        "    for j in player_names_home_list:\n",
        "        all_player_names.append(j)\n",
        "\n",
        "for i in range(total_matches_away):\n",
        "    player_names_away = df_matches[df_matches['team_name_away'] == 'France']['player_names_away'].iloc[i]\n",
        "    player_names_away_list = ast.literal_eval(player_names_away)\n",
        "    player_names_away_list = list(player_names_away_list)\n",
        "    for j in player_names_away_list:\n",
        "        all_player_names.append(j)\n",
        "\n",
        "elements, counts = zip(*Counter(all_player_names).items())\n",
        "x = np.array(list(elements))\n",
        "y = np.array(list(counts))\n",
        "plt.figure(figsize=(10, 10))\n",
        "plt.pie(y, labels=x, autopct='%1.1f%%', wedgeprops=dict(edgecolor='black'))\n",
        "plt.title('Tỉ lệ ra sân của các cầu thủ Pháp')\n",
        "plt.show()"
      ],
      "metadata": {
        "id": "cAKkCs593idg"
      },
      "execution_count": null,
      "outputs": []
    },
    {
      "cell_type": "markdown",
      "source": [
        "## Thống kê danh sách top 10 vua phá lưới của giải đấu\n",
        "- Nếu trường hợp hai cầu thủ có cùng số bàn thắng thì chọn cầu thủ có số lượng kiến tạo nhiều hơn\n",
        "- Sử dụng biểu đồ thích hợp để hiển thị số bàn thắng của top 10"
      ],
      "metadata": {
        "id": "uPnOdGBjx6C9"
      }
    },
    {
      "cell_type": "code",
      "source": [],
      "metadata": {
        "id": "yj6GXKfzxetv"
      },
      "execution_count": 21,
      "outputs": []
    },
    {
      "cell_type": "markdown",
      "source": [
        "# OpenCV"
      ],
      "metadata": {
        "id": "DINXtSC37Vyb"
      }
    },
    {
      "cell_type": "markdown",
      "source": [
        "## Tìm bounding box cho các chữ số trong bức ảnh sau: [ảnh](https://1.bp.blogspot.com/-fGR7t6RnXZs/Uv5kdmT89_I/AAAAAAAAAjg/zZHfaCqnkak/s1600/freeDrawExport_012314055352.png)\n",
        "\n",
        "- Gợi ý các hàm sử dụng:\n",
        "  - cv2.threshold\n",
        "  - cv2.findContours\n",
        "  - cv2.contourArea\n",
        "  - cv2.boundingRect\n",
        "\n",
        "Và các hàm trong thư viện OpenCV đã học hôm trước"
      ],
      "metadata": {
        "id": "O4IWMBszI00S"
      }
    },
    {
      "cell_type": "code",
      "source": [
        "img = cv2.imread(r\"/content/freeDrawExport_012314055352.png\")\n",
        "\n",
        "# Chuyển đổi ảnh sang màu xám\n",
        "gray = cv2.cvtColor(img, cv2.COLOR_BGR2GRAY)\n",
        "\n",
        "# Áp dụng ngưỡng thích ứng để tạo ảnh nhị phân\n",
        "thresh = cv2.threshold(gray, 0, 255, cv2.THRESH_BINARY + cv2.THRESH_OTSU)[1]\n",
        "\n",
        "# Tìm các đường viền trong ảnh nhị phân\n",
        "contours, hierarchy = cv2.findContours(thresh, cv2.RETR_LIST, cv2.CHAIN_APPROX_SIMPLE)\n",
        "\n",
        "# Duyệt qua các đường viền và vẽ các hộp giới hạn cho các chữ số\n",
        "for cnt in contours:\n",
        "    # Tính toán diện tích của đường viền\n",
        "    area = cv2.contourArea(cnt)\n",
        "    # Lọc ra các đường viền có diện tích lớn hơn một ngưỡng nhất định\n",
        "    if area > 100:\n",
        "        # Tìm hộp giới hạn nhỏ nhất bao quanh đường viền\n",
        "        x, y, w, h = cv2.boundingRect(cnt)\n",
        "        # Vẽ hộp giới hạn lên ảnh gốc\n",
        "        cv2.rectangle(img, (x, y), (x + w, y + h), (0, 255, 0), 2)\n",
        "\n",
        "# Hiển thị ảnh kết quả\n",
        "cv2_imshow(img)\n",
        "cv2.waitKey(0)\n",
        "cv2.destroyAllWindows()\n"
      ],
      "metadata": {
        "id": "SX_1jq9hI0ST"
      },
      "execution_count": null,
      "outputs": []
    },
    {
      "cell_type": "markdown",
      "source": [
        "Thực hiện vẽ logo của CLB Tin Học HIT bằng OpenCV: [Vẽ logo](https://docs.google.com/document/d/1Wfg10lmyVPzGpCa6BWcMd3fpjYD3OGohoyjzy_JfcWc/edit?usp=sharing)"
      ],
      "metadata": {
        "id": "xAgVjAuXGgC-"
      }
    },
    {
      "cell_type": "code",
      "source": [
        "img = np.zeros((430, 350, 3), dtype='uint8')\n",
        "\n",
        "# Vẽ đường tròn\n",
        "center = (175, 200)\n",
        "radius = 150\n",
        "color = (37, 108, 240)\n",
        "thickness = 3\n",
        "cv2.circle(img, center, radius, (255, 255, 255), -1, cv2.LINE_AA)\n",
        "cv2.circle(img, center, radius, color, thickness, cv2.LINE_AA)\n",
        "\n",
        "# Chèn chữ HIT\n",
        "text = 'HIT'\n",
        "org = (80, 240)\n",
        "font_face = cv2.FONT_HERSHEY_SIMPLEX\n",
        "font_scale = 4\n",
        "font_thickness = 15\n",
        "text_color = (37, 108, 240)\n",
        "cv2.putText(img, text, org, font_face, font_scale, text_color, font_thickness, cv2.LINE_AA)\n",
        "\n",
        "# Chèn dòng dưới cùng\n",
        "text_1 = 'CLB TIN HOC DH CNHN'\n",
        "org_1 = (87, 280)\n",
        "font_scale_1 = 0.5\n",
        "font_thickness_1 = 1\n",
        "cv2.putText(img, text_1, org_1, cv2.FONT_HERSHEY_DUPLEX, font_scale_1, text_color, font_thickness_1, cv2.LINE_AA)\n",
        "\n",
        "# Vẽ chữ club\n",
        "img = cv2.rotate(img, cv2.ROTATE_90_CLOCKWISE)\n",
        "text_2 = 'CLUB'\n",
        "org_2 = (185, 265)\n",
        "font_scale_2 = 0.85\n",
        "font_thickness_2 = 2\n",
        "cv2.putText(img, text_2, org_2, font_face, font_scale_2, text_color, font_thickness_2, cv2.LINE_AA)\n",
        "img = cv2.rotate(img, cv2.ROTATE_90_COUNTERCLOCKWISE)\n",
        "\n",
        "# Vẽ chuột\n",
        "center_1 = (175, 125)\n",
        "axes = (13, 18)\n",
        "angle = 90\n",
        "start_angle = 0\n",
        "end_angle = 360\n",
        "thickness = 2\n",
        "cv2.ellipse(img, center_1, axes, angle, start_angle, end_angle, text_color, thickness, cv2.LINE_AA)\n",
        "\n",
        "x1 = (182, 114)\n",
        "y1 = (182, 137)\n",
        "x2 = (182, 125)\n",
        "y2 = (202, 125)\n",
        "x3 = (203, 123)\n",
        "y3 = (203, 105)\n",
        "cv2.line(img, x1, y1, text_color, 2, cv2.LINE_AA)\n",
        "cv2.line(img, x2, y2, text_color, 2, cv2.LINE_AA)\n",
        "cv2.circle(img, (202, 123), 0, text_color, 2, cv2.LINE_AA)\n",
        "cv2.line(img, x3, y3, text_color, 2, cv2.LINE_AA)\n",
        "cv2.circle(img, (204, 104), 0, text_color, 2, cv2.LINE_AA)\n",
        "\n",
        "cv2_imshow(img)\n",
        "cv2.waitKey(0)\n",
        "cv2.destroyAllWindows()\n"
      ],
      "metadata": {
        "id": "HK76jYc97U7q"
      },
      "execution_count": null,
      "outputs": []
    },
    {
      "cell_type": "markdown",
      "source": [
        "Thực hiện các yêu cầu sau đối với ảnh logo mà bạn vừa vẽ:\n",
        "- Làm mịn ảnh\n",
        "- Làm mờ ảnh\n",
        "\n",
        "Sử dụng các hàm gợi ý sau:\n",
        "- cv2.filter2D\n",
        "- cv2.blur\n",
        "- cv2.GaussianBlur\n",
        "- cv2.medianBlur\n",
        "- cv2.bilateralFilter"
      ],
      "metadata": {
        "id": "DqdlU8_iZoof"
      }
    },
    {
      "cell_type": "code",
      "source": [
        "# Làm mịn ảnh bằng cv2.filter2D\n",
        "smoothed_img = cv2.filter2D(img, -1, (1, 1))\n",
        "cv2_imshow(smoothed_img)\n",
        "\n",
        "# Làm mờ ảnh bằng cv.blur\n",
        "blurred_img = cv2.blur(img, (20, 2))\n",
        "cv2_imshow(blurred_img)\n",
        "\n",
        "#Làm mờ ảnh bằng cv2.GaussianBlur\n",
        "GaussianBlur_img = cv2.GaussianBlur(img, (15, 15), 0)\n",
        "cv2_imshow(GaussianBlur_img)\n",
        "\n",
        "# Làm mờ ảnh bằng cv2.medianBlur\n",
        "medianBlur_img = cv2.medianBlur(img, 15)\n",
        "cv2_imshow(medianBlur_img)\n",
        "\n",
        "# Làm mịn ảnh bằng cv2.bilateralFilter\n",
        "bilateralFilter_img = cv2.bilateralFilter(img, 15, 75, 75)\n",
        "cv2_imshow(bilateralFilter_img)\n",
        "cv2.waitKey(0)\n",
        "cv2.destroyAllWindows()"
      ],
      "metadata": {
        "id": "OzCWehx5ZnIK"
      },
      "execution_count": null,
      "outputs": []
    }
  ]
}