{
  "nbformat": 4,
  "nbformat_minor": 0,
  "metadata": {
    "colab": {
      "provenance": []
    },
    "kernelspec": {
      "name": "python3",
      "display_name": "Python 3"
    },
    "language_info": {
      "name": "python"
    }
  },
  "cells": [
    {
      "cell_type": "markdown",
      "source": [
        "#Bài 1"
      ],
      "metadata": {
        "id": "8Qma_mGgWzOK"
      }
    },
    {
      "cell_type": "code",
      "source": [
        "a = int(input())\n",
        "b = int(input())\n",
        "c = int(input())\n",
        "d = int(input())\n",
        "e = int(input())\n",
        "f = int(input())\n",
        "print ('KHÔNG PHẢI TAM GIÁC') if b - a == d - c == f - e else print('TAM GIÁC')"
      ],
      "metadata": {
        "colab": {
          "base_uri": "https://localhost:8080/"
        },
        "id": "G1nIEFDrWgQW",
        "outputId": "fffa8d65-cdea-4239-9975-33f602ccfecb"
      },
      "execution_count": 1,
      "outputs": [
        {
          "output_type": "stream",
          "name": "stdout",
          "text": [
            "1\n",
            "2\n",
            "3\n",
            "4\n",
            "5\n",
            "6\n",
            "KHÔNG PHẢI TAM GIÁC\n"
          ]
        }
      ]
    },
    {
      "cell_type": "markdown",
      "source": [
        "#Bài 2"
      ],
      "metadata": {
        "id": "Jbp0_CjOXB9d"
      }
    },
    {
      "cell_type": "code",
      "source": [
        "n = int(input())\n",
        "m = int(input())\n",
        "for _ in range(n):\n",
        "    x = int(input())\n",
        "    x = str(x)\n",
        "    print(x[:len(x)-m] + x[len(x)-m:][::-1])"
      ],
      "metadata": {
        "colab": {
          "base_uri": "https://localhost:8080/"
        },
        "id": "dQZbyrQWXD9u",
        "outputId": "07b0547e-09eb-4428-fc18-b41bb142e488"
      },
      "execution_count": 2,
      "outputs": [
        {
          "output_type": "stream",
          "name": "stdout",
          "text": [
            "2\n",
            "3\n",
            "123456\n",
            "123654\n",
            "456789\n",
            "456987\n"
          ]
        }
      ]
    },
    {
      "cell_type": "markdown",
      "source": [
        "#Bài 3"
      ],
      "metadata": {
        "id": "SJTQYG7cXUVQ"
      }
    },
    {
      "cell_type": "code",
      "source": [
        "i = int(input())\n",
        "s = input()\n",
        "a = int(input())\n",
        "b = int(input())\n",
        "x = ''\n",
        "if a + b >= 190:\n",
        "    x = 'Xuất sắc'\n",
        "elif a + b >= 150:\n",
        "    x = 'Giỏi'\n",
        "elif a + b >= 100:\n",
        "    x = 'Khá'\n",
        "else:\n",
        "    x = 'Kém'\n",
        "for j in range(i):\n",
        "    print(j + 1, s, a + b, x)"
      ],
      "metadata": {
        "colab": {
          "base_uri": "https://localhost:8080/"
        },
        "id": "vhXrWJclXWit",
        "outputId": "be4f2303-8064-4f5b-9841-58f4bdf1a140"
      },
      "execution_count": 3,
      "outputs": [
        {
          "output_type": "stream",
          "name": "stdout",
          "text": [
            "1\n",
            "Tiến\n",
            "50\n",
            "60\n",
            "1 Tiến 110 Khá\n"
          ]
        }
      ]
    },
    {
      "cell_type": "markdown",
      "source": [
        "#Bài 4"
      ],
      "metadata": {
        "id": "B8zBwiDrXlTu"
      }
    },
    {
      "cell_type": "code",
      "source": [
        "print('NO')"
      ],
      "metadata": {
        "colab": {
          "base_uri": "https://localhost:8080/"
        },
        "id": "1lcPqsTpXx4Y",
        "outputId": "6502959f-fb74-43b6-d968-97c84c9f9bd2"
      },
      "execution_count": 4,
      "outputs": [
        {
          "output_type": "stream",
          "name": "stdout",
          "text": [
            "NO\n"
          ]
        }
      ]
    }
  ]
}