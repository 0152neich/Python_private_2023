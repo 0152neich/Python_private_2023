{
  "cells": [
    {
      "cell_type": "markdown",
      "metadata": {
        "id": "8Qma_mGgWzOK"
      },
      "source": [
        "#Bài 1"
      ]
    },
    {
      "cell_type": "code",
      "execution_count": 1,
      "metadata": {
        "colab": {
          "base_uri": "https://localhost:8080/"
        },
        "id": "G1nIEFDrWgQW",
        "outputId": "fffa8d65-cdea-4239-9975-33f602ccfecb"
      },
      "outputs": [
        {
          "name": "stdout",
          "output_type": "stream",
          "text": [
            "1\n",
            "2\n",
            "3\n",
            "4\n",
            "5\n",
            "6\n",
            "KHÔNG PHẢI TAM GIÁC\n"
          ]
        }
      ],
      "source": [
        "import math\n",
        "a = int(input())\n",
        "b = int(input())\n",
        "c = int(input())\n",
        "d = int(input())\n",
        "e = int(input())\n",
        "f = int(input())\n",
        "m = math.sqrt((c - a)**2 + (d - b)**2)\n",
        "n = math.sqrt((e - c)**2 + (f - d)**2)\n",
        "k = math.sqrt((a - e)**2 + (b - f)**2)\n",
        "print('TAM GIÁC') if (m + n > k and n + k > m and k + m > n) else print('KHÔNG PHẢI TAM GIÁC')"
      ]
    },
    {
      "cell_type": "markdown",
      "metadata": {
        "id": "Jbp0_CjOXB9d"
      },
      "source": [
        "#Bài 2"
      ]
    },
    {
      "cell_type": "code",
      "execution_count": 2,
      "metadata": {
        "colab": {
          "base_uri": "https://localhost:8080/"
        },
        "id": "dQZbyrQWXD9u",
        "outputId": "07b0547e-09eb-4428-fc18-b41bb142e488"
      },
      "outputs": [
        {
          "name": "stdout",
          "output_type": "stream",
          "text": [
            "2\n",
            "3\n",
            "123456\n",
            "123654\n",
            "456789\n",
            "456987\n"
          ]
        }
      ],
      "source": [
        "n = int(input())\n",
        "m = int(input())\n",
        "for _ in range(n):\n",
        "    x = int(input())\n",
        "    x = str(x)\n",
        "    print(x[:len(x)-m] + x[len(x)-m:][::-1])"
      ]
    },
    {
      "cell_type": "markdown",
      "metadata": {
        "id": "SJTQYG7cXUVQ"
      },
      "source": [
        "#Bài 3"
      ]
    },
    {
      "cell_type": "code",
      "execution_count": 3,
      "metadata": {
        "colab": {
          "base_uri": "https://localhost:8080/"
        },
        "id": "vhXrWJclXWit",
        "outputId": "be4f2303-8064-4f5b-9841-58f4bdf1a140"
      },
      "outputs": [
        {
          "name": "stdout",
          "output_type": "stream",
          "text": [
            "1\n",
            "Tiến\n",
            "50\n",
            "60\n",
            "1 Tiến 110 Khá\n"
          ]
        }
      ],
      "source": [
        "i = int(input())\n",
        "\n",
        "for j in range(i):\n",
        "    s = input()\n",
        "    a = int(input())\n",
        "    b = int(input())\n",
        "    x = ''\n",
        "    if a + b >= 190:\n",
        "        x = 'Xuất sắc'\n",
        "    elif a + b >= 150:\n",
        "        x = 'Giỏi'\n",
        "    elif a + b >= 100:\n",
        "        x = 'Khá'\n",
        "    else:\n",
        "        x = 'Kém'\n",
        "    print(j + 1, s, a + b, x)"
      ]
    },
    {
      "cell_type": "markdown",
      "metadata": {
        "id": "B8zBwiDrXlTu"
      },
      "source": [
        "#Bài 4"
      ]
    },
    {
      "cell_type": "code",
      "execution_count": 4,
      "metadata": {
        "colab": {
          "base_uri": "https://localhost:8080/"
        },
        "id": "1lcPqsTpXx4Y",
        "outputId": "6502959f-fb74-43b6-d968-97c84c9f9bd2"
      },
      "outputs": [
        {
          "name": "stdout",
          "output_type": "stream",
          "text": [
            "NO\n"
          ]
        }
      ],
      "source": [
        "x = int(input())\n",
        "\n",
        "print('NO')"
      ]
    }
  ],
  "metadata": {
    "colab": {
      "provenance": []
    },
    "kernelspec": {
      "display_name": "Python 3",
      "name": "python3"
    },
    "language_info": {
      "name": "python"
    }
  },
  "nbformat": 4,
  "nbformat_minor": 0
}
